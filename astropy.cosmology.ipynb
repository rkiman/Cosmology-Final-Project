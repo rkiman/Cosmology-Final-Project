{
 "cells": [
  {
   "cell_type": "markdown",
   "metadata": {},
   "source": [
    "## Cosmological Calculations (astropy.cosmology)"
   ]
  },
  {
   "cell_type": "markdown",
   "metadata": {},
   "source": [
    "### Introduction"
   ]
  },
  {
   "cell_type": "markdown",
   "metadata": {},
   "source": [
    "The astropy.cosmology subpackage contains classes for representing cosmologies, and utility functions for calculating commonly used quantities that depend on a cosmological model. This includes distances, ages and lookback times corresponding to a measured redshift or the transverse separation corresponding to a measured angular separation."
   ]
  },
  {
   "cell_type": "markdown",
   "metadata": {},
   "source": [
    "### Getting Started"
   ]
  },
  {
   "cell_type": "markdown",
   "metadata": {},
   "source": [
    "Cosmological quantities are calculated using methods of a Cosmology object. For example, to calculate the Hubble constant at z=0 (i.e., H0), and the number of transverse proper kpc corresponding to an arcminute at z=3:"
   ]
  },
  {
   "cell_type": "code",
   "execution_count": 28,
   "metadata": {},
   "outputs": [],
   "source": [
    "from astropy.cosmology import WMAP9 as cosmo\n",
    "from astropy.cosmology import WMAP7   # WMAP 7-year cosmology\n",
    "from astropy.cosmology import FlatLambdaCDM\n",
    "import astropy.units as u\n",
    "from astropy.cosmology import FlatwCDM\n",
    "from astropy.cosmology import Planck13, z_at_value"
   ]
  },
  {
   "cell_type": "code",
   "execution_count": 3,
   "metadata": {},
   "outputs": [
    {
     "data": {
      "text/latex": [
       "$69.32 \\; \\mathrm{\\frac{km}{Mpc\\,s}}$"
      ],
      "text/plain": [
       "<Quantity 69.32 km / (Mpc s)>"
      ]
     },
     "execution_count": 3,
     "metadata": {},
     "output_type": "execute_result"
    }
   ],
   "source": [
    "cosmo.H(0)  "
   ]
  },
  {
   "cell_type": "code",
   "execution_count": 4,
   "metadata": {},
   "outputs": [
    {
     "data": {
      "text/latex": [
       "$472.97709 \\; \\mathrm{\\frac{kpc}{{}^{\\prime}}}$"
      ],
      "text/plain": [
       "<Quantity 472.97709236 kpc / arcmin>"
      ]
     },
     "execution_count": 4,
     "metadata": {},
     "output_type": "execute_result"
    }
   ],
   "source": [
    "cosmo.kpc_proper_per_arcmin(3)  "
   ]
  },
  {
   "cell_type": "markdown",
   "metadata": {},
   "source": [
    "Here WMAP9 is a built-in object describing a cosmology with the parameters from the 9-year WMAP results. Several other built-in cosmologies are also available, see Built-in Cosmologies. The available methods of the cosmology object are listed in the methods summary for the FLRW class. If you’re using IPython you can also use tab completion to print a list of the available methods. To do this, after importing the cosmology as in the above example, type cosmo. at the IPython prompt and then press the tab key.\n",
    "\n",
    "All of these methods also accept an array of redshifts as input:"
   ]
  },
  {
   "cell_type": "code",
   "execution_count": 5,
   "metadata": {},
   "outputs": [
    {
     "data": {
      "text/latex": [
       "$[1916.0694,~3363.0706,~4451.7475] \\; \\mathrm{Mpc}$"
      ],
      "text/plain": [
       "<Quantity [1916.06942039, 3363.0706321 , 4451.74754107] Mpc>"
      ]
     },
     "execution_count": 5,
     "metadata": {},
     "output_type": "execute_result"
    }
   ],
   "source": [
    "cosmo.comoving_distance([0.5, 1.0, 1.5])  "
   ]
  },
  {
   "cell_type": "markdown",
   "metadata": {},
   "source": [
    "You can create your own arbitrary cosmology using one of the Cosmology classes:"
   ]
  },
  {
   "cell_type": "code",
   "execution_count": 13,
   "metadata": {},
   "outputs": [],
   "source": [
    "cosmo = FlatLambdaCDM(H0=70, Om0=0.3)"
   ]
  },
  {
   "cell_type": "code",
   "execution_count": 8,
   "metadata": {},
   "outputs": [
    {
     "data": {
      "text/plain": [
       "FlatLambdaCDM(H0=70 km / (Mpc s), Om0=0.3, Tcmb0=0 K, Neff=3.04, m_nu=None, Ob0=None)"
      ]
     },
     "execution_count": 8,
     "metadata": {},
     "output_type": "execute_result"
    }
   ],
   "source": [
    "cosmo"
   ]
  },
  {
   "cell_type": "markdown",
   "metadata": {},
   "source": [
    "The cosmology subpackage makes use of units, so in many cases returns values with units attached. Consult the documentation for that subpackage for more details, but briefly, to access the floating point or array values:"
   ]
  },
  {
   "cell_type": "code",
   "execution_count": 10,
   "metadata": {},
   "outputs": [],
   "source": [
    "H0 = cosmo.H(0)"
   ]
  },
  {
   "cell_type": "code",
   "execution_count": 11,
   "metadata": {},
   "outputs": [
    {
     "data": {
      "text/plain": [
       "(70.0, Unit(\"km / (Mpc s)\"))"
      ]
     },
     "execution_count": 11,
     "metadata": {},
     "output_type": "execute_result"
    }
   ],
   "source": [
    "H0.value, H0.unit"
   ]
  },
  {
   "cell_type": "markdown",
   "metadata": {},
   "source": [
    "### Using astropy.cosmology"
   ]
  },
  {
   "cell_type": "markdown",
   "metadata": {},
   "source": [
    "Most of the functionality is enabled by the FLRW object. This represents a homogeneous and isotropic cosmology (characterized by the Friedmann-Lemaitre-Robertson-Walker metric, named after the people who solved Einstein’s field equation for this special case). However, you can’t work with this class directly, as you must specify a dark energy model by using one of its subclasses instead, such as FlatLambdaCDM.\n",
    "\n",
    "You can create a new FlatLambdaCDM object with arguments giving the Hubble parameter and omega matter (both at z=0):"
   ]
  },
  {
   "cell_type": "code",
   "execution_count": 12,
   "metadata": {},
   "outputs": [],
   "source": [
    "from astropy.cosmology import FlatLambdaCDM"
   ]
  },
  {
   "cell_type": "code",
   "execution_count": 14,
   "metadata": {},
   "outputs": [],
   "source": [
    "cosmo = FlatLambdaCDM(H0=70, Om0=0.3)"
   ]
  },
  {
   "cell_type": "code",
   "execution_count": 15,
   "metadata": {},
   "outputs": [
    {
     "data": {
      "text/plain": [
       "FlatLambdaCDM(H0=70 km / (Mpc s), Om0=0.3, Tcmb0=0 K, Neff=3.04, m_nu=None, Ob0=None)"
      ]
     },
     "execution_count": 15,
     "metadata": {},
     "output_type": "execute_result"
    }
   ],
   "source": [
    "cosmo"
   ]
  },
  {
   "cell_type": "markdown",
   "metadata": {},
   "source": [
    "This can also be done more explicitly using units, which is recommended:"
   ]
  },
  {
   "cell_type": "code",
   "execution_count": 17,
   "metadata": {},
   "outputs": [],
   "source": [
    "cosmo = FlatLambdaCDM(H0=70 * u.km / u.s / u.Mpc, Om0=0.3)"
   ]
  },
  {
   "cell_type": "markdown",
   "metadata": {},
   "source": [
    "However, most of the parameters that accept units (H0, Tcmb0) have default units, so unit quantities do not have to be used. The exception are neutrino masses, where you must supply a units if you want massive neutrinos.\n",
    "\n",
    "The pre-defined cosmologies described in the Getting Started section are instances of FlatLambdaCDM, and have the same methods. So we can find the luminosity distance to redshift 4 by:"
   ]
  },
  {
   "cell_type": "code",
   "execution_count": 18,
   "metadata": {},
   "outputs": [
    {
     "data": {
      "text/latex": [
       "$35851.832 \\; \\mathrm{Mpc}$"
      ],
      "text/plain": [
       "<Quantity 35851.83207232 Mpc>"
      ]
     },
     "execution_count": 18,
     "metadata": {},
     "output_type": "execute_result"
    }
   ],
   "source": [
    "cosmo.luminosity_distance(4)  "
   ]
  },
  {
   "cell_type": "markdown",
   "metadata": {},
   "source": [
    "or the age of the universe at z = 0:"
   ]
  },
  {
   "cell_type": "code",
   "execution_count": 19,
   "metadata": {},
   "outputs": [
    {
     "data": {
      "text/latex": [
       "$13.466984 \\; \\mathrm{Gyr}$"
      ],
      "text/plain": [
       "<Quantity 13.46698395 Gyr>"
      ]
     },
     "execution_count": 19,
     "metadata": {},
     "output_type": "execute_result"
    }
   ],
   "source": [
    "cosmo.age(0)  "
   ]
  },
  {
   "cell_type": "markdown",
   "metadata": {},
   "source": [
    "They also accept arrays of redshifts:"
   ]
  },
  {
   "cell_type": "code",
   "execution_count": 21,
   "metadata": {},
   "outputs": [
    {
     "data": {
      "text/plain": [
       "array([8.42634602, 5.75164694, 4.20073193])"
      ]
     },
     "execution_count": 21,
     "metadata": {},
     "output_type": "execute_result"
    }
   ],
   "source": [
    "cosmo.age([0.5, 1, 1.5]).value  "
   ]
  },
  {
   "cell_type": "markdown",
   "metadata": {},
   "source": [
    "See the [FLRW](http://docs.astropy.org/en/stable/api/astropy.cosmology.FLRW.html#flrw) and [FlatLambdaCDM](http://docs.astropy.org/en/stable/api/astropy.cosmology.FlatLambdaCDM.html#astropy.cosmology.FlatLambdaCDM) object docstring for all the methods and attributes available. In addition to flat Universes, non-flat varieties are supported such as LambdaCDM. There are also a variety of standard cosmologies with the parameters already defined (see Built-in Cosmologies):"
   ]
  },
  {
   "cell_type": "code",
   "execution_count": 23,
   "metadata": {},
   "outputs": [
    {
     "data": {
      "text/latex": [
       "$9.3096685 \\times 10^{-30} \\; \\mathrm{\\frac{g}{cm^{3}}}$"
      ],
      "text/plain": [
       "<Quantity 9.30966846e-30 g / cm3>"
      ]
     },
     "execution_count": 23,
     "metadata": {},
     "output_type": "execute_result"
    }
   ],
   "source": [
    "WMAP7.critical_density(0)  # critical density at z = 0  "
   ]
  },
  {
   "cell_type": "markdown",
   "metadata": {},
   "source": [
    "You can see how the density parameters evolve with redshift as well:"
   ]
  },
  {
   "cell_type": "code",
   "execution_count": 24,
   "metadata": {},
   "outputs": [
    {
     "data": {
      "text/plain": [
       "(array([0.272     , 0.74898523, 0.90905237]),\n",
       " array([0.72791572, 0.25055061, 0.0901026 ]))"
      ]
     },
     "execution_count": 24,
     "metadata": {},
     "output_type": "execute_result"
    }
   ],
   "source": [
    "WMAP7.Om([0, 1.0, 2.0]), WMAP7.Ode([0., 1.0, 2.0])  "
   ]
  },
  {
   "cell_type": "markdown",
   "metadata": {},
   "source": [
    "Note that these don’t quite add up to one even though WMAP7 assumes a flat Universe because photons and neutrinos are included. Also note that they are unitless and so are not Quantity objects.\n",
    "\n",
    "Cosmological instances have an optional name attribute which can be used to describe the cosmology:"
   ]
  },
  {
   "cell_type": "code",
   "execution_count": 26,
   "metadata": {},
   "outputs": [],
   "source": [
    "cosmo = FlatwCDM(name='SNLS3+WMAP7', H0=71.58, Om0=0.262, w0=-1.016)"
   ]
  },
  {
   "cell_type": "code",
   "execution_count": 27,
   "metadata": {},
   "outputs": [
    {
     "data": {
      "text/plain": [
       "FlatwCDM(name=\"SNLS3+WMAP7\", H0=71.6 km / (Mpc s), Om0=0.262, w0=-1.02, Tcmb0=0 K, Neff=3.04, m_nu=None, Ob0=None)"
      ]
     },
     "execution_count": 27,
     "metadata": {},
     "output_type": "execute_result"
    }
   ],
   "source": [
    "cosmo"
   ]
  },
  {
   "cell_type": "markdown",
   "metadata": {},
   "source": [
    "This is also an example with a different model for dark energy, a flat Universe with a constant dark energy equation of state, but not necessarily a cosmological constant. A variety of additional dark energy models are also supported – see Specifying a dark energy model.\n",
    "\n",
    "A important point is that the cosmological parameters of each instance are immutable – that is, if you want to change, say, Om, you need to make a new instance of the class.\n",
    "\n",
    "Finding the Redshift at a Given Value of a Cosmological Quantity\n",
    "If you know a cosmological quantity and you want to know the redshift which it corresponds to, you can use z_at_value:"
   ]
  },
  {
   "cell_type": "code",
   "execution_count": 29,
   "metadata": {},
   "outputs": [
    {
     "data": {
      "text/plain": [
       "3.198120965652982"
      ]
     },
     "execution_count": 29,
     "metadata": {},
     "output_type": "execute_result"
    }
   ],
   "source": [
    "z_at_value(Planck13.age, 2 * u.Gyr)  "
   ]
  },
  {
   "cell_type": "markdown",
   "metadata": {},
   "source": [
    "For some quantities there can be more than one redshift that satisfies a value. In this case you can use the zmin and zmax keywords to restrict the search range. See the z_at_value docstring for more detailed usage examples.\n",
    "\n",
    "Built-in Cosmologies\n",
    "A number of pre-loaded cosmologies are available from analyses using the WMAP and Planck satellite data. For example,"
   ]
  },
  {
   "cell_type": "code",
   "execution_count": 30,
   "metadata": {},
   "outputs": [
    {
     "data": {
      "text/latex": [
       "$10.511841 \\; \\mathrm{Gyr}$"
      ],
      "text/plain": [
       "<Quantity 10.51184138 Gyr>"
      ]
     },
     "execution_count": 30,
     "metadata": {},
     "output_type": "execute_result"
    }
   ],
   "source": [
    "Planck13.lookback_time(2)  # lookback time in Gyr at z=2  "
   ]
  },
  {
   "cell_type": "markdown",
   "metadata": {},
   "source": [
    "A full list of the pre-defined cosmologies is given by cosmology.parameters.available, and summarized below:\n",
    "\n",
    "|Name\t |Source\t                    |H0\t    |Om\t    |Flat|\n",
    "| --- | --- | --- | --- | --- |\n",
    "|WMAP5\t |Komatsu et al. 2009\t        |70.2\t|0.277\t|Yes |\n",
    "|WMAP7\t |Komatsu et al. 2011\t        |70.4\t|0.272\t|Yes |\n",
    "|WMAP9\t |Hinshaw et al. 2013\t        |69.3\t|0.287\t|Yes |\n",
    "|Planck13|Planck Collab 2013, Paper XVI\t|67.8\t|0.307\t|Yes |\n",
    "\n",
    "Currently, all are instances of FlatLambdaCDM. More details about exactly where each set of parameters come from are available in the docstring for each object:"
   ]
  },
  {
   "cell_type": "code",
   "execution_count": 31,
   "metadata": {},
   "outputs": [
    {
     "name": "stdout",
     "output_type": "stream",
     "text": [
      "WMAP7 instance of FlatLambdaCDM cosmology\n",
      "\n",
      "(from Komatsu et al. 2011, ApJS, 192, 18, doi: 10.1088/0067-0049/192/2/18. Table 1 (WMAP + BAO + H0 ML).)\n"
     ]
    }
   ],
   "source": [
    "print(WMAP7.__doc__)"
   ]
  },
  {
   "cell_type": "markdown",
   "metadata": {},
   "source": [
    "### Specifying a dark energy model"
   ]
  },
  {
   "cell_type": "markdown",
   "metadata": {},
   "source": [
    "In addition to the standard FlatLambdaCDM model described above, a number of additional dark energy models are provided. FlatLambdaCDM and LambdaCDM assume that dark energy is a cosmological constant, and should be the most commonly used cases; the former assumes a flat Universe, the latter allows for spatial curvature. FlatwCDM and wCDM assume a constant dark energy equation of state parameterized by $w_{0}$. Two forms of a variable dark energy equation of state are provided: the simple first order linear expansion $w(z) = w_{0} + w_{z} z$ by w0wzCDM, as well as the common CPL form by w0waCDM: $w(z) = w_{0} + w_{a} (1 - a) = w_{0} + w_{a} z / (1 + z)$ and its generalization to include a pivot redshift by wpwaCDM: $w(z) = w_{p} + w_{a}(a_{p} - a)$.\n",
    "\n",
    "Users can specify their own equation of state by sub-classing FLRW. See the provided subclasses for examples."
   ]
  },
  {
   "cell_type": "markdown",
   "metadata": {},
   "source": [
    "### Photons and Neutrinos"
   ]
  },
  {
   "cell_type": "markdown",
   "metadata": {},
   "source": [
    "The cosmology classes include the contribution to the energy density from both photons and neutrinos. By default, the latter are assumed massless. The three parameters controlling the proporties of these species, which are arguments to the initializers of all the cosmological classes, are Tcmb0 (the temperature of the CMB at z=0), Neff, the effective number of neutrino species, and m_nu, the rest mass of the neutrino species. Tcmb0 and m_nu should be expressed as unit Quantities. All three have standard default values (2.725 K, 3.04, and 0 eV respectively; the reason that Neff is not 3 primarily has to do with a small bump in the neutrino energy spectrum due to electron-positron annihilation, but is also affected by weak interaction physics).\n",
    "\n",
    "Massive neutrinos are treated using the approach described in the WMAP 7-year cosmology paper (Komatsu et al. 2011, ApJS, 192, 18, section 3.3). This is not the simple $\\Omega_{\\nu 0} h^2 = \\sum_i m_{\\nu\\, i} / 93.04\\,\\mathrm{eV}$ approximation. Also note that the values of \\Omega_{\\nu}(z) include both the kinetic energy and the rest-mass energy components, and that the Planck13 cosmology includes a single species of neutrinos with non-zero mass (which is not included in $\\Omega_{m0}$).\n",
    "\n",
    "The contribution of photons and neutrinos to the total mass-energy density can be found as a function of redshift:"
   ]
  },
  {
   "cell_type": "code",
   "execution_count": 32,
   "metadata": {},
   "outputs": [
    {
     "data": {
      "text/plain": [
       "(4.985868989189756e-05, 3.442275090310745e-05)"
      ]
     },
     "execution_count": 32,
     "metadata": {},
     "output_type": "execute_result"
    }
   ],
   "source": [
    "WMAP7.Ogamma0, WMAP7.Onu0  # Current epoch values  "
   ]
  },
  {
   "cell_type": "code",
   "execution_count": 34,
   "metadata": {},
   "outputs": [],
   "source": [
    "z = [0, 1.0, 2.0]"
   ]
  },
  {
   "cell_type": "code",
   "execution_count": 35,
   "metadata": {},
   "outputs": [
    {
     "data": {
      "text/plain": [
       "(array([4.98586899e-05, 2.74583989e-04, 4.99898824e-04]),\n",
       " array([3.44227509e-05, 1.89574501e-04, 3.45133270e-04]))"
      ]
     },
     "execution_count": 35,
     "metadata": {},
     "output_type": "execute_result"
    }
   ],
   "source": [
    "WMAP7.Ogamma(z), WMAP7.Onu(z)"
   ]
  },
  {
   "cell_type": "markdown",
   "metadata": {},
   "source": [
    "If you want to exclude photons and neutrinos from your calculations, simply set Tcmb0 to 0:"
   ]
  },
  {
   "cell_type": "code",
   "execution_count": 47,
   "metadata": {},
   "outputs": [],
   "source": [
    "from astropy.cosmology import FlatLambdaCDM\n",
    "cos = FlatLambdaCDM(70.4 * u.km / u.s / u.Mpc, 0.272, Tcmb0 = 0.0 * u.K)"
   ]
  },
  {
   "cell_type": "code",
   "execution_count": 48,
   "metadata": {},
   "outputs": [
    {
     "data": {
      "text/plain": [
       "(0.0, 0.0)"
      ]
     },
     "execution_count": 48,
     "metadata": {},
     "output_type": "execute_result"
    }
   ],
   "source": [
    "cos.Ogamma0, cos.Onu0"
   ]
  },
  {
   "cell_type": "markdown",
   "metadata": {},
   "source": [
    "Neutrinos can be removed (while leaving photons) by setting Neff to 0:"
   ]
  },
  {
   "cell_type": "code",
   "execution_count": 74,
   "metadata": {},
   "outputs": [],
   "source": [
    "cos = FlatLambdaCDM(70.4, 0.272, Neff=0)"
   ]
  },
  {
   "cell_type": "code",
   "execution_count": 75,
   "metadata": {},
   "outputs": [
    {
     "data": {
      "text/plain": [
       "array([0., 0., 0.])"
      ]
     },
     "execution_count": 75,
     "metadata": {},
     "output_type": "execute_result"
    }
   ],
   "source": [
    "cos.Ogamma([0, 1, 2])  # Photons are still present   ?????????"
   ]
  },
  {
   "cell_type": "code",
   "execution_count": 76,
   "metadata": {},
   "outputs": [
    {
     "data": {
      "text/plain": [
       "array([0., 0., 0.])"
      ]
     },
     "execution_count": 76,
     "metadata": {},
     "output_type": "execute_result"
    }
   ],
   "source": [
    "cos.Onu([0, 1, 2])  # But not neutrinos"
   ]
  },
  {
   "cell_type": "markdown",
   "metadata": {},
   "source": [
    "The number of neutrino species is assumed to be the floor of Neff, which in the default case is 3. Therefore, if non-zero neutrino masses are desired, then 3 masses should be provided. However, if only one value is provided, all the species are assumed to have the same mass. Neff is assumed to be shared equally between each species."
   ]
  },
  {
   "cell_type": "code",
   "execution_count": 77,
   "metadata": {},
   "outputs": [],
   "source": [
    "H0 = 70.4 * u.km / u.s / u.Mpc\n",
    "m_nu = 0 * u.eV\n",
    "cosmo = FlatLambdaCDM(H0, 0.272, m_nu=m_nu)"
   ]
  },
  {
   "cell_type": "code",
   "execution_count": 78,
   "metadata": {},
   "outputs": [
    {
     "data": {
      "text/plain": [
       "False"
      ]
     },
     "execution_count": 78,
     "metadata": {},
     "output_type": "execute_result"
    }
   ],
   "source": [
    "cosmo.has_massive_nu"
   ]
  },
  {
   "cell_type": "code",
   "execution_count": 79,
   "metadata": {},
   "outputs": [
    {
     "name": "stdout",
     "output_type": "stream",
     "text": [
      "None\n"
     ]
    }
   ],
   "source": [
    "print(cosmo.m_nu)    #Should be zeros"
   ]
  },
  {
   "cell_type": "code",
   "execution_count": 80,
   "metadata": {},
   "outputs": [],
   "source": [
    "m_nu = [0.0, 0.05, 0.10] * u.eV\n",
    "cosmo = FlatLambdaCDM(H0, 0.272, m_nu=m_nu)"
   ]
  },
  {
   "cell_type": "code",
   "execution_count": 81,
   "metadata": {},
   "outputs": [
    {
     "data": {
      "text/plain": [
       "False"
      ]
     },
     "execution_count": 81,
     "metadata": {},
     "output_type": "execute_result"
    }
   ],
   "source": [
    "cosmo.has_massive_nu"
   ]
  },
  {
   "cell_type": "code",
   "execution_count": 82,
   "metadata": {},
   "outputs": [],
   "source": [
    "cosmo.m_nu     #????????? <Quantity [ 0.  , 0.05, 0.1 ] eV>"
   ]
  },
  {
   "cell_type": "code",
   "execution_count": 83,
   "metadata": {},
   "outputs": [
    {
     "data": {
      "text/plain": [
       "array([0., 0., 0.])"
      ]
     },
     "execution_count": 83,
     "metadata": {},
     "output_type": "execute_result"
    }
   ],
   "source": [
    "cosmo.Onu([0, 1.0, 15.0])       #?????? array([ 0.00326988,  0.00896783,  0.0125786 ])"
   ]
  },
  {
   "cell_type": "code",
   "execution_count": 84,
   "metadata": {},
   "outputs": [
    {
     "data": {
      "text/latex": [
       "$0 \\; \\mathrm{\\frac{g}{cm^{3}}}$"
      ],
      "text/plain": [
       "<Quantity 0. g / cm3>"
      ]
     },
     "execution_count": 84,
     "metadata": {},
     "output_type": "execute_result"
    }
   ],
   "source": [
    "cosmo.Onu(1) * cosmo.critical_density(1)   #??? <Quantity 2.444380380370406e-31 g / cm3>"
   ]
  },
  {
   "cell_type": "markdown",
   "metadata": {},
   "source": [
    "While these examples used FlatLambdaCDM, the above examples also apply for all of the other cosmology classes."
   ]
  },
  {
   "cell_type": "markdown",
   "metadata": {},
   "source": [
    "### For Developers: Using astropy.cosmology inside Astropy"
   ]
  },
  {
   "cell_type": "markdown",
   "metadata": {},
   "source": [
    "If you are writing code for the Astropy core or an affiliated package, it’s often useful to assume a default cosmology, so that the exact cosmology doesn’t have to be specified every time a function or method is called. In this case it’s possible to specify a “default” cosmology.\n",
    "\n",
    "You can set the default cosmology to a pre-defined value by using the “default_cosmology” option in the [cosmology.core] section of the configuration file (see Configuration system (astropy.config)). Alternatively, you can use the set function of default_cosmology to set a cosmology for the current Python session. If you haven’t set a default cosmology using one of the methods described above, then the cosmology module will default to using the 9-year WMAP parameters.\n",
    "\n",
    "It is strongly recommended that you use the default cosmology through the default_cosmology science state object. An override option can then be provided using something like the following:"
   ]
  },
  {
   "cell_type": "markdown",
   "metadata": {},
   "source": [
    "def myfunc(..., cosmo=None):\n",
    "    from astropy.cosmology import default_cosmology\n",
    "\n",
    "    if cosmo is None:\n",
    "        cosmo = default_cosmology.get()\n",
    "\n",
    "    ... your code here ...\n",
    "This ensures that all code consistently uses the default cosmology unless explicitly overridden.\n",
    "\n",
    "Note\n",
    "\n",
    "In general it’s better to use an explicit cosmology (for example WMAP9.H(0) instead of cosmology.default_cosmology.get().H(0)). Use of the default cosmology should generally be reserved for code that will be included in the Astropy core or an affiliated package.\n",
    "\n",
    "See Also\n",
    "Hogg, “Distance measures in cosmology”, http://arxiv.org/abs/astroph/9905116\n",
    "Linder, “Exploring the Expansion History of the Universe”, http://arxiv.org/abs/astro-ph/0208512\n",
    "NASA’s Legacy Archive for Microwave Background Data Analysis, http://lambda.gsfc.nasa.gov/\n",
    "Range of validity and reliability\n",
    "The code in this sub-package is tested against several widely-used online cosmology calculators, and has been used to perform many calculations in refereed papers. You can check the range of redshifts over which the code is regularly tested in the module astropy.cosmology.tests.test_cosmology. If you find any bugs, please let us know by opening an issue at the github repository!\n",
    "\n",
    "The built in cosmologies use the parameters as listed in the respective papers. These provide only a limited range of precision, and so you should not expect derived quantities to match beyond that precision. For example, the Planck 2013 results only provide the Hubble constant to 4 digits. Therefore, the Planck13 built-in cosmology should only be expected to match the age of the Universe quoted by the Planck team to 4 digits, although they provide 5 in the paper.\n",
    "\n",
    "Reference/API\n",
    "astropy.cosmology Module\n",
    "astropy.cosmology contains classes and functions for cosmological distance measures and other cosmology-related calculations.\n",
    "\n",
    "See the Astropy documentation for more detailed usage examples and references."
   ]
  },
  {
   "cell_type": "code",
   "execution_count": null,
   "metadata": {},
   "outputs": [],
   "source": []
  }
 ],
 "metadata": {
  "kernelspec": {
   "display_name": "Python 3",
   "language": "python",
   "name": "python3"
  },
  "language_info": {
   "codemirror_mode": {
    "name": "ipython",
    "version": 3
   },
   "file_extension": ".py",
   "mimetype": "text/x-python",
   "name": "python",
   "nbconvert_exporter": "python",
   "pygments_lexer": "ipython3",
   "version": "3.6.7"
  }
 },
 "nbformat": 4,
 "nbformat_minor": 2
}
